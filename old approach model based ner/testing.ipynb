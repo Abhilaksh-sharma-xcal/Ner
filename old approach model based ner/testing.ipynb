{
 "cells": [
  {
   "cell_type": "code",
   "execution_count": 1,
   "id": "203581ba-fc34-4108-8984-70699428090f",
   "metadata": {},
   "outputs": [
    {
     "name": "stdout",
     "output_type": "stream",
     "text": [
      "hello\n"
     ]
    }
   ],
   "source": [
    "print(\"hello\")"
   ]
  },
  {
   "cell_type": "code",
   "execution_count": 2,
   "id": "7b85516b-372d-4c2a-975a-3613ebfc912a",
   "metadata": {},
   "outputs": [],
   "source": [
    "qa_pairs = {\n",
    "    \"q1\": \"tell me the active set of problems that Myra Jones has\",\n",
    "    \"a1\": \"Myra Jones currently has only one active health problem: Asthma. This condition began when she was 65 years old, with an official start date of January 3, 2007. There is no end date on record, so it is considered ongoing.\",\n",
    "\n",
    "    \"q2\": \"tell me the active medication\",\n",
    "    \"a2\": \"There are currently no active medications on record for Myra Jones. If you would like information about past or discontinued medications, please let me know!\",\n",
    "\n",
    "    \"q3\": \"what are her allergies?\",\n",
    "    \"a3\": \"Myra Jones has the following allergies:\\nShellfish (severe—causes anaphylaxis; active since April 12, 1995)\\nCodeine (moderate—causes shortness of breath; active since May 1, 2006)\\nAspirin (mild to moderate—causes hives; active since May 1, 2008)\\nShe also has a past allergy to Penicillin G benzathine (caused hives, moderate to severe), but this allergy is no longer considered active as of August 6, 2012.\",\n",
    "\n",
    "    \"q4\": \"When was the last time lab test was done?\",\n",
    "    \"a4\": \"The last laboratory test for Myra Jones was a Complete Blood Count Without Differential (CBC WO DIFFERENTIAL), which was performed on August 10, 2012.\",\n",
    "\n",
    "    \"q5\": \"What kind of lab test was done?\",\n",
    "    \"a5\": \"The last lab test Myra Jones had was a Complete Blood Count Without Differential (CBC WO DIFFERENTIAL). This test measures the main types of blood cells to help check for conditions like anemia or infection, but it does not provide a breakdown of the different types of white blood cells.\"\n",
    "}"
   ]
  },
  {
   "cell_type": "code",
   "execution_count": 3,
   "id": "4c7bb941",
   "metadata": {},
   "outputs": [],
   "source": [
    "ground_truth_nl = {\n",
    "    \"q1\": \"Myra Jones has one active health problem: Asthma. It began on January 3, 2007, and is still ongoing.\",\n",
    "    \n",
    "    \"q2\": \"Myra Jones currently has no active medications on record.\",\n",
    "    \n",
    "    \"q3\": \"Myra Jones has active allergies to Shellfish (since April 12, 1995), Codeine (since May 1, 2006), and Aspirin (since May 1, 2008). She previously had an allergy to Penicillin G benzathine, which is now inactive as of August 6, 2012.\",\n",
    "    \n",
    "    \"q4\": \"Myra Jones's last lab test was done on August 10, 2012. It was a Complete Blood Count Without Differential.\",\n",
    "    \n",
    "    \"q5\": \"The last lab test done for Myra Jones was a Complete Blood Count Without Differential (CBC WO DIFFERENTIAL), which checks overall blood health but doesn’t break down white blood cell types.\"\n",
    "}\n"
   ]
  },
  {
   "cell_type": "code",
   "execution_count": 4,
   "id": "d2f72e34",
   "metadata": {},
   "outputs": [],
   "source": [
    "ground_truth_structure = {\n",
    "    \"q1\": {\n",
    "        \"patient_name\": \"Myra Jones\",\n",
    "        \"active_problems\": [\n",
    "            {\n",
    "                \"problem\": \"Asthma\",\n",
    "                \"start_date\": \"2007-01-03\",\n",
    "                \"status\": \"ongoing\"\n",
    "            }\n",
    "        ]\n",
    "    },\n",
    "    \n",
    "    \"q2\": {\n",
    "        \"patient_name\": \"Myra Jones\",\n",
    "        \"active_medications\": []\n",
    "    },\n",
    "    \n",
    "    \"q3\": {\n",
    "        \"patient_name\": \"Myra Jones\",\n",
    "        \"active_allergies\": [\n",
    "            {\n",
    "                \"substance\": \"Shellfish\",\n",
    "                \"severity\": \"severe\",\n",
    "                \"reaction\": \"anaphylaxis\",\n",
    "                \"active_since\": \"1995-04-12\",\n",
    "                \"status\": \"active\"\n",
    "            },\n",
    "            {\n",
    "                \"substance\": \"Codeine\",\n",
    "                \"severity\": \"moderate\",\n",
    "                \"reaction\": \"shortness of breath\",\n",
    "                \"active_since\": \"2006-05-01\",\n",
    "                \"status\": \"active\"\n",
    "            },\n",
    "            {\n",
    "                \"substance\": \"Aspirin\",\n",
    "                \"severity\": \"mild to moderate\",\n",
    "                \"reaction\": \"hives\",\n",
    "                \"active_since\": \"2008-05-01\",\n",
    "                \"status\": \"active\"\n",
    "            }\n",
    "        ],\n",
    "        \"inactive_allergies\": [\n",
    "            {\n",
    "                \"substance\": \"Penicillin G benzathine\",\n",
    "                \"severity\": \"moderate to severe\",\n",
    "                \"reaction\": \"hives\",\n",
    "                \"inactivated_on\": \"2012-08-06\",\n",
    "                \"status\": \"inactive\"\n",
    "            }\n",
    "        ]\n",
    "    },\n",
    "    \n",
    "    \"q4\": {\n",
    "        \"patient_name\": \"Myra Jones\",\n",
    "        \"last_lab_test\": {\n",
    "            \"test_name\": \"Complete Blood Count Without Differential\",\n",
    "            \"date\": \"2012-08-10\"\n",
    "        }\n",
    "    },\n",
    "    \n",
    "    \"q5\": {\n",
    "        \"patient_name\": \"Myra Jones\",\n",
    "        \"last_lab_test\": {\n",
    "            \"test_name\": \"Complete Blood Count Without Differential\",\n",
    "            \"description\": \"This test measures major types of blood cells but does not provide a breakdown of white blood cell types.\",\n",
    "            \"purpose\": \"check for conditions like anemia or infection\"\n",
    "        }\n",
    "    }\n",
    "}\n"
   ]
  },
  {
   "cell_type": "code",
   "execution_count": null,
   "id": "a78e995d",
   "metadata": {},
   "outputs": [],
   "source": [
    "def structured_to_text(data):\n",
    "    qid = list(data.keys())[0]\n",
    "    entry = data[qid]\n",
    "    \n",
    "    if qid == \"q1\":\n",
    "        problem = entry['active_problems'][0]\n",
    "        return f\"{entry['patient_name']} , problem: {problem['problem']}, started on {problem['start_date']}.\"\n",
    "    \n",
    "    elif qid == \"q2\":\n",
    "        return f\"{entry['patient_name']} no medications.\"\n",
    "    \n",
    "    elif qid == \"q3\":\n",
    "        allergies = entry[\"active_allergies\"]\n",
    "        text = f\"{entry['patient_name']} active allergies \"\n",
    "        allergy_strs = []\n",
    "        for a in allergies:\n",
    "            allergy_strs.append(f\"{a['substance']} ({a['severity']}, causes {a['reaction']}, since {a['active_since']})\")\n",
    "        text += \"; \".join(allergy_strs) + \".\"\n",
    "        return text\n",
    "    \n",
    "    elif qid == \"q4\":\n",
    "        test = entry[\"last_lab_test\"]\n",
    "        return f\" {entry['patient_name']} : {test['test_name']} on {test['date']}.\"\n",
    "    \n",
    "    elif qid == \"q5\":\n",
    "        test = entry[\"last_lab_test\"]\n",
    "        return f\"{entry['patient_name']}'s last lab test : {test['test_name']}, which {test['description']} to {test['purpose']}.\"\n",
    "    \n",
    "    return \"\"\n"
   ]
  },
  {
   "cell_type": "code",
   "execution_count": 6,
   "id": "95502b26",
   "metadata": {},
   "outputs": [
    {
     "name": "stderr",
     "output_type": "stream",
     "text": [
      "d:\\xcaliber\\study\\myenv\\lib\\site-packages\\tqdm\\auto.py:21: TqdmWarning: IProgress not found. Please update jupyter and ipywidgets. See https://ipywidgets.readthedocs.io/en/stable/user_install.html\n",
      "  from .autonotebook import tqdm as notebook_tqdm\n"
     ]
    }
   ],
   "source": [
    "from sentence_transformers import SentenceTransformer, util\n",
    "\n",
    "model = SentenceTransformer(\"all-MiniLM-L6-v2\")\n"
   ]
  },
  {
   "cell_type": "code",
   "execution_count": 7,
   "id": "048b2411",
   "metadata": {},
   "outputs": [],
   "source": [
    "def compute_similarity(ans1, ans2):\n",
    "    emb1 = model.encode(ans1, convert_to_tensor=True)\n",
    "    emb2 = model.encode(ans2, convert_to_tensor=True)\n",
    "    score = util.pytorch_cos_sim(emb1, emb2)\n",
    "    return float(score[0][0])"
   ]
  },
  {
   "cell_type": "code",
   "execution_count": 13,
   "id": "3f0a06aa",
   "metadata": {},
   "outputs": [
    {
     "name": "stdout",
     "output_type": "stream",
     "text": [
      "{'q1': 0.8794, 'q2': 0.7605, 'q3': 0.9524, 'q4': 0.9352, 'q5': 0.9392}\n"
     ]
    }
   ],
   "source": [
    "scores = {}\n",
    "\n",
    "for qid in [\"q1\", \"q2\", \"q3\", \"q4\", \"q5\"]:\n",
    "    model_answer = qa_pairs[qid.replace(\"q\", \"a\")]\n",
    "    gt_text = structured_to_text({qid: ground_truth_structure[qid]})\n",
    "    \n",
    "    similarity = compute_similarity(model_answer, gt_text)\n",
    "    scores[qid] = round(similarity, 4)\n",
    "\n",
    "print(scores)"
   ]
  },
  {
   "cell_type": "code",
   "execution_count": 12,
   "id": "4ad04c78",
   "metadata": {},
   "outputs": [
    {
     "name": "stdout",
     "output_type": "stream",
     "text": [
      "{'q1': 0.9316, 'q2': 0.7667, 'q3': 0.9255, 'q4': 0.9246, 'q5': 0.9635}\n"
     ]
    }
   ],
   "source": [
    "scores = {}\n",
    "\n",
    "for qid in [\"q1\", \"q2\", \"q3\", \"q4\", \"q5\"]:\n",
    "    model_answer = qa_pairs[qid.replace(\"q\", \"a\")]\n",
    "    gt_text = ground_truth_nl[qid]\n",
    "    \n",
    "    similarity = compute_similarity(model_answer, gt_text)\n",
    "    scores[qid] = round(similarity, 4)\n",
    "\n",
    "print(scores)"
   ]
  }
 ],
 "metadata": {
  "kernelspec": {
   "display_name": "myenv",
   "language": "python",
   "name": "python3"
  },
  "language_info": {
   "codemirror_mode": {
    "name": "ipython",
    "version": 3
   },
   "file_extension": ".py",
   "mimetype": "text/x-python",
   "name": "python",
   "nbconvert_exporter": "python",
   "pygments_lexer": "ipython3",
   "version": "3.10.11"
  }
 },
 "nbformat": 4,
 "nbformat_minor": 5
}
