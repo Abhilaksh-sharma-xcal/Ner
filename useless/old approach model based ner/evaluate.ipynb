{
 "cells": [
  {
   "cell_type": "code",
   "execution_count": null,
   "id": "7bd4a8cf",
   "metadata": {},
   "outputs": [],
   "source": [
    "import evaluate\n",
    "import pandas as pd\n",
    "from evaluate import evaluator\n",
    "from datasets import load_dataset\n",
    "from transformers import pipeline"
   ]
  },
  {
   "cell_type": "code",
   "execution_count": 72,
   "id": "82b577a6",
   "metadata": {},
   "outputs": [],
   "source": [
    "## llm_response = \"Here are the documented conditions and significant findings for this patient: - Stress (multiple entries, including 2022-2025 and earlier years) - Severe anxiety (panic) (2013-2019) - Social isolation (2019-2021) - Acute bronchitis (June 2021) - Acute viral pharyngitis (January 2017) - Viral sinusitis (multiple episodes: Feb 2019, Dec 2021) - Victim of intimate partner abuse (2013-2016) - Medication review due (various periods, including currently as of 2025) - Employment and educational statuses (part-time, full-time employment; not in labor force; higher educationùthese provide social context to the health record) If you want details about any specific condition, such as dates or symptom descriptions, please let me know.\"\n",
    "llm_response = \"Here are all documented encounters for this patient:1. Mar 2, 2012 û Wellness exam2. Mar 8, 2013 û Wellness exam3. Mar 11, 2016 û Wellness exam4. Jan 8, 2017 û Symptom-related visit (ambulatory)5. Feb 6, 2019 û Symptom-related visit (ambulatory)6. Mar 15, 2019 û Wellness exam7. Jun 15, 2021 û Symptom-related visit (ambulatory)8. Jun 25, 2021 û Outpatient check-up9. Dec 7, 2021 û Symptom-related visit (ambulatory)10. Mar 18, 2022 û Wellness exam11. Mar 21, 2025 û Wellness examIf you need details about a specific encounter, such as diagnoses or procedures, just let me know.\""
   ]
  },
  {
   "cell_type": "code",
   "execution_count": 73,
   "id": "40cea7d0",
   "metadata": {},
   "outputs": [],
   "source": [
    "csv_file = r\"D:\\xcaliber\\evaluation agent\\study\\encounters_for_03c5.csv\"\n",
    "truth_values = pd.read_csv(csv_file)"
   ]
  },
  {
   "cell_type": "code",
   "execution_count": 74,
   "id": "c14380de",
   "metadata": {},
   "outputs": [
    {
     "name": "stderr",
     "output_type": "stream",
     "text": [
      "Device set to use cpu\n"
     ]
    }
   ],
   "source": [
    "ner_pipeline = pipeline(\n",
    "    \"ner\",\n",
    "    model=\"samrawal/bert-base-uncased_clinical-ner\",\n",
    "    aggregation_strategy=\"simple\" # Combines word pieces like 'meta' + 'formin'\n",
    ")\n"
   ]
  },
  {
   "cell_type": "code",
   "execution_count": 75,
   "id": "b56519e7",
   "metadata": {},
   "outputs": [
    {
     "data": {
      "text/plain": [
       "[{'entity_group': 'test',\n",
       "  'score': np.float32(0.9454053),\n",
       "  'word': 'wellness exam',\n",
       "  'start': 69,\n",
       "  'end': 82},\n",
       " {'entity_group': 'test',\n",
       "  'score': np.float32(0.9674078),\n",
       "  'word': 'wellness exam',\n",
       "  'start': 99,\n",
       "  'end': 112},\n",
       " {'entity_group': 'test',\n",
       "  'score': np.float32(0.97119975),\n",
       "  'word': 'wellness exam',\n",
       "  'start': 130,\n",
       "  'end': 143},\n",
       " {'entity_group': 'test',\n",
       "  'score': np.float32(0.9594984),\n",
       "  'word': 'wellness exam',\n",
       "  'start': 263,\n",
       "  'end': 276},\n",
       " {'entity_group': 'test',\n",
       "  'score': np.float32(0.78125674),\n",
       "  'word': 'out',\n",
       "  'start': 346,\n",
       "  'end': 349},\n",
       " {'entity_group': 'test',\n",
       "  'score': np.float32(0.5967234),\n",
       "  'word': 'check',\n",
       "  'start': 357,\n",
       "  'end': 362},\n",
       " {'entity_group': 'test',\n",
       "  'score': np.float32(0.9489875),\n",
       "  'word': 'wellness exam',\n",
       "  'start': 435,\n",
       "  'end': 448},\n",
       " {'entity_group': 'test',\n",
       "  'score': np.float32(0.95346224),\n",
       "  'word': 'wellness exam',\n",
       "  'start': 467,\n",
       "  'end': 480}]"
      ]
     },
     "execution_count": 75,
     "metadata": {},
     "output_type": "execute_result"
    }
   ],
   "source": [
    "llm_response = ner_pipeline(llm_response)\n",
    "llm_response"
   ]
  },
  {
   "cell_type": "code",
   "execution_count": null,
   "id": "9c9420f7",
   "metadata": {},
   "outputs": [],
   "source": []
  },
  {
   "cell_type": "code",
   "execution_count": 55,
   "id": "1a03a8fd",
   "metadata": {},
   "outputs": [],
   "source": [
    "list = x.to_string()"
   ]
  },
  {
   "cell_type": "code",
   "execution_count": 62,
   "id": "0fc5cbdd",
   "metadata": {},
   "outputs": [
    {
     "data": {
      "text/plain": [
       "'                                      id                            patient_id  extension_code encounter_type       code code_system  code_system_version                                 description encounter_date                          performer_id  performer_extension performer_role_code                                    performer_role_system  performer_role_name  performer_name  location_name  location_service_code  location_service_system  location_service_name  location_street  location_city  location_state  location_postal_code location_country                 created_at\\n0   0063494a-ea89-9964-2657-98adeac98f92  03c5df71-2c83-aa6e-283e-2fbe6cb3dee9             NaN       wellness  162673000      SNOMED                 2021  General examination of patient (procedure)     2025-03-21  defeb68c-b27a-343e-9fc3-dbd5622f0773                  NaN                PROV  http://terminology.hl7.org/CodeSystem/practitioner-role  Healthcare Provider             NaN            NaN                    NaN                      NaN                    NaN              NaN            NaN             NaN                   NaN               US  2025-06-20 12:28:00.83615\\n1   359378bd-8c8f-63fa-f04d-e37a08c0fc72  03c5df71-2c83-aa6e-283e-2fbe6cb3dee9             NaN     ambulatory  185345009      SNOMED                 2021           Encounter for symptom (procedure)     2021-06-15  00454607-fef1-3c53-817e-afd12f92334a                  NaN                PROV  http://terminology.hl7.org/CodeSystem/practitioner-role  Healthcare Provider             NaN            NaN                    NaN                      NaN                    NaN              NaN            NaN             NaN                   NaN               US  2025-06-20 12:28:00.83615\\n2   3e9a07f3-b86a-76f1-d118-cc5d0a20aaee  03c5df71-2c83-aa6e-283e-2fbe6cb3dee9             NaN     ambulatory  185345009      SNOMED                 2021           Encounter for symptom (procedure)     2021-12-07  00454607-fef1-3c53-817e-afd12f92334a                  NaN                PROV  http://terminology.hl7.org/CodeSystem/practitioner-role  Healthcare Provider             NaN            NaN                    NaN                      NaN                    NaN              NaN            NaN             NaN                   NaN               US  2025-06-20 12:28:00.83615\\n3   4a6f5a39-df6f-74f5-0be9-32420b9db803  03c5df71-2c83-aa6e-283e-2fbe6cb3dee9             NaN       wellness  162673000      SNOMED                 2021  General examination of patient (procedure)     2016-03-11  defeb68c-b27a-343e-9fc3-dbd5622f0773                  NaN                PROV  http://terminology.hl7.org/CodeSystem/practitioner-role  Healthcare Provider             NaN            NaN                    NaN                      NaN                    NaN              NaN            NaN             NaN                   NaN               US  2025-06-20 12:28:00.83615\\n4   4cf0d7bf-c3d6-91da-b24d-420098e8b465  03c5df71-2c83-aa6e-283e-2fbe6cb3dee9             NaN       wellness  162673000      SNOMED                 2021  General examination of patient (procedure)     2019-03-15  defeb68c-b27a-343e-9fc3-dbd5622f0773                  NaN                PROV  http://terminology.hl7.org/CodeSystem/practitioner-role  Healthcare Provider             NaN            NaN                    NaN                      NaN                    NaN              NaN            NaN             NaN                   NaN               US  2025-06-20 12:28:00.83615\\n5   84f0c6cd-4f35-6e57-3826-30ceb0d242b0  03c5df71-2c83-aa6e-283e-2fbe6cb3dee9             NaN       wellness  162673000      SNOMED                 2021  General examination of patient (procedure)     2022-03-18  defeb68c-b27a-343e-9fc3-dbd5622f0773                  NaN                PROV  http://terminology.hl7.org/CodeSystem/practitioner-role  Healthcare Provider             NaN            NaN                    NaN                      NaN                    NaN              NaN            NaN             NaN                   NaN               US  2025-06-20 12:28:00.83615\\n6   a78f9fdd-682d-a412-ab15-8e9a56c43e57  03c5df71-2c83-aa6e-283e-2fbe6cb3dee9             NaN       wellness  162673000      SNOMED                 2021  General examination of patient (procedure)     2012-03-02  defeb68c-b27a-343e-9fc3-dbd5622f0773                  NaN                PROV  http://terminology.hl7.org/CodeSystem/practitioner-role  Healthcare Provider             NaN            NaN                    NaN                      NaN                    NaN              NaN            NaN             NaN                   NaN               US  2025-06-20 12:28:00.83615\\n7   cb8540af-8dfd-81a6-3797-bf25dd7cbbf9  03c5df71-2c83-aa6e-283e-2fbe6cb3dee9             NaN     outpatient  185349003      SNOMED                 2021          Encounter for check up (procedure)     2021-06-25  00454607-fef1-3c53-817e-afd12f92334a                  NaN                PROV  http://terminology.hl7.org/CodeSystem/practitioner-role  Healthcare Provider             NaN            NaN                    NaN                      NaN                    NaN              NaN            NaN             NaN                   NaN               US  2025-06-20 12:28:00.83615\\n8   d6dc4aae-2202-6cd2-5203-ec20fde61137  03c5df71-2c83-aa6e-283e-2fbe6cb3dee9             NaN     ambulatory  185345009      SNOMED                 2021           Encounter for symptom (procedure)     2019-02-06  00454607-fef1-3c53-817e-afd12f92334a                  NaN                PROV  http://terminology.hl7.org/CodeSystem/practitioner-role  Healthcare Provider             NaN            NaN                    NaN                      NaN                    NaN              NaN            NaN             NaN                   NaN               US  2025-06-20 12:28:00.83615\\n9   dbd67d5c-8ab4-528a-de5a-eef99455656b  03c5df71-2c83-aa6e-283e-2fbe6cb3dee9             NaN     ambulatory  185345009      SNOMED                 2021           Encounter for symptom (procedure)     2017-01-08  00454607-fef1-3c53-817e-afd12f92334a                  NaN                PROV  http://terminology.hl7.org/CodeSystem/practitioner-role  Healthcare Provider             NaN            NaN                    NaN                      NaN                    NaN              NaN            NaN             NaN                   NaN               US  2025-06-20 12:28:00.83615\\n10  ed6186d1-6d2d-7093-bcc2-7e3bd129da46  03c5df71-2c83-aa6e-283e-2fbe6cb3dee9             NaN       wellness  162673000      SNOMED                 2021  General examination of patient (procedure)     2013-03-08  defeb68c-b27a-343e-9fc3-dbd5622f0773                  NaN                PROV  http://terminology.hl7.org/CodeSystem/practitioner-role  Healthcare Provider             NaN            NaN                    NaN                      NaN                    NaN              NaN            NaN             NaN                   NaN               US  2025-06-20 12:28:00.83615'"
      ]
     },
     "execution_count": 62,
     "metadata": {},
     "output_type": "execute_result"
    }
   ],
   "source": [
    "list"
   ]
  },
  {
   "cell_type": "code",
   "execution_count": 59,
   "id": "acd2e238",
   "metadata": {},
   "outputs": [
    {
     "data": {
      "text/plain": [
       "'                                      id                            patient_id  extension_code encounter_type       code code_system  code_system_version                                 description encounter_date                          performer_id  performer_extension performer_role_code                                    performer_role_system  performer_role_name  performer_name  location_name  location_service_code  location_service_system  location_service_name  location_street  location_city  location_state  location_postal_code location_country                 created_at 0   0063494a-ea89-9964-2657-98adeac98f92  03c5df71-2c83-aa6e-283e-2fbe6cb3dee9             NaN       wellness  162673000      SNOMED                 2021  General examination of patient (procedure)     2025-03-21  defeb68c-b27a-343e-9fc3-dbd5622f0773                  NaN                PROV  http://terminology.hl7.org/CodeSystem/practitioner-role  Healthcare Provider             NaN            NaN                    NaN                      NaN                    NaN              NaN            NaN             NaN                   NaN               US  2025-06-20 12:28:00.83615 1   359378bd-8c8f-63fa-f04d-e37a08c0fc72  03c5df71-2c83-aa6e-283e-2fbe6cb3dee9             NaN     ambulatory  185345009      SNOMED                 2021           Encounter for symptom (procedure)     2021-06-15  00454607-fef1-3c53-817e-afd12f92334a                  NaN                PROV  http://terminology.hl7.org/CodeSystem/practitioner-role  Healthcare Provider             NaN            NaN                    NaN                      NaN                    NaN              NaN            NaN             NaN                   NaN               US  2025-06-20 12:28:00.83615 2   3e9a07f3-b86a-76f1-d118-cc5d0a20aaee  03c5df71-2c83-aa6e-283e-2fbe6cb3dee9             NaN     ambulatory  185345009      SNOMED                 2021           Encounter for symptom (procedure)     2021-12-07  00454607-fef1-3c53-817e-afd12f92334a                  NaN                PROV  http://terminology.hl7.org/CodeSystem/practitioner-role  Healthcare Provider             NaN            NaN                    NaN                      NaN                    NaN              NaN            NaN             NaN                   NaN               US  2025-06-20 12:28:00.83615 3   4a6f5a39-df6f-74f5-0be9-32420b9db803  03c5df71-2c83-aa6e-283e-2fbe6cb3dee9             NaN       wellness  162673000      SNOMED                 2021  General examination of patient (procedure)     2016-03-11  defeb68c-b27a-343e-9fc3-dbd5622f0773                  NaN                PROV  http://terminology.hl7.org/CodeSystem/practitioner-role  Healthcare Provider             NaN            NaN                    NaN                      NaN                    NaN              NaN            NaN             NaN                   NaN               US  2025-06-20 12:28:00.83615 4   4cf0d7bf-c3d6-91da-b24d-420098e8b465  03c5df71-2c83-aa6e-283e-2fbe6cb3dee9             NaN       wellness  162673000      SNOMED                 2021  General examination of patient (procedure)     2019-03-15  defeb68c-b27a-343e-9fc3-dbd5622f0773                  NaN                PROV  http://terminology.hl7.org/CodeSystem/practitioner-role  Healthcare Provider             NaN            NaN                    NaN                      NaN                    NaN              NaN            NaN             NaN                   NaN               US  2025-06-20 12:28:00.83615 5   84f0c6cd-4f35-6e57-3826-30ceb0d242b0  03c5df71-2c83-aa6e-283e-2fbe6cb3dee9             NaN       wellness  162673000      SNOMED                 2021  General examination of patient (procedure)     2022-03-18  defeb68c-b27a-343e-9fc3-dbd5622f0773                  NaN                PROV  http://terminology.hl7.org/CodeSystem/practitioner-role  Healthcare Provider             NaN            NaN                    NaN                      NaN                    NaN              NaN            NaN             NaN                   NaN               US  2025-06-20 12:28:00.83615 6   a78f9fdd-682d-a412-ab15-8e9a56c43e57  03c5df71-2c83-aa6e-283e-2fbe6cb3dee9             NaN       wellness  162673000      SNOMED                 2021  General examination of patient (procedure)     2012-03-02  defeb68c-b27a-343e-9fc3-dbd5622f0773                  NaN                PROV  http://terminology.hl7.org/CodeSystem/practitioner-role  Healthcare Provider             NaN            NaN                    NaN                      NaN                    NaN              NaN            NaN             NaN                   NaN               US  2025-06-20 12:28:00.83615 7   cb8540af-8dfd-81a6-3797-bf25dd7cbbf9  03c5df71-2c83-aa6e-283e-2fbe6cb3dee9             NaN     outpatient  185349003      SNOMED                 2021          Encounter for check up (procedure)     2021-06-25  00454607-fef1-3c53-817e-afd12f92334a                  NaN                PROV  http://terminology.hl7.org/CodeSystem/practitioner-role  Healthcare Provider             NaN            NaN                    NaN                      NaN                    NaN              NaN            NaN             NaN                   NaN               US  2025-06-20 12:28:00.83615 8   d6dc4aae-2202-6cd2-5203-ec20fde61137  03c5df71-2c83-aa6e-283e-2fbe6cb3dee9             NaN     ambulatory  185345009      SNOMED                 2021           Encounter for symptom (procedure)     2019-02-06  00454607-fef1-3c53-817e-afd12f92334a                  NaN                PROV  http://terminology.hl7.org/CodeSystem/practitioner-role  Healthcare Provider             NaN            NaN                    NaN                      NaN                    NaN              NaN            NaN             NaN                   NaN               US  2025-06-20 12:28:00.83615 9   dbd67d5c-8ab4-528a-de5a-eef99455656b  03c5df71-2c83-aa6e-283e-2fbe6cb3dee9             NaN     ambulatory  185345009      SNOMED                 2021           Encounter for symptom (procedure)     2017-01-08  00454607-fef1-3c53-817e-afd12f92334a                  NaN                PROV  http://terminology.hl7.org/CodeSystem/practitioner-role  Healthcare Provider             NaN            NaN                    NaN                      NaN                    NaN              NaN            NaN             NaN                   NaN               US  2025-06-20 12:28:00.83615 10  ed6186d1-6d2d-7093-bcc2-7e3bd129da46  03c5df71-2c83-aa6e-283e-2fbe6cb3dee9             NaN       wellness  162673000      SNOMED                 2021  General examination of patient (procedure)     2013-03-08  defeb68c-b27a-343e-9fc3-dbd5622f0773                  NaN                PROV  http://terminology.hl7.org/CodeSystem/practitioner-role  Healthcare Provider             NaN            NaN                    NaN                      NaN                    NaN              NaN            NaN             NaN                   NaN               US  2025-06-20 12:28:00.83615'"
      ]
     },
     "execution_count": 59,
     "metadata": {},
     "output_type": "execute_result"
    }
   ],
   "source": [
    "list.replace(\"\\n\",\" \")"
   ]
  },
  {
   "cell_type": "code",
   "execution_count": 60,
   "id": "f8aca9ed",
   "metadata": {},
   "outputs": [],
   "source": [
    "expected = ner_pipeline(list)"
   ]
  },
  {
   "cell_type": "code",
   "execution_count": 61,
   "id": "227cc2c6",
   "metadata": {},
   "outputs": [
    {
     "data": {
      "text/plain": [
       "[{'entity_group': 'problem',\n",
       "  'score': np.float32(0.5714579),\n",
       "  'word': 'sy',\n",
       "  'start': 1350,\n",
       "  'end': 1352},\n",
       " {'entity_group': 'problem',\n",
       "  'score': np.float32(0.45536205),\n",
       "  'word': '##om',\n",
       "  'start': 1355,\n",
       "  'end': 1357},\n",
       " {'entity_group': 'problem',\n",
       "  'score': np.float32(0.42535305),\n",
       "  'word': 'sy',\n",
       "  'start': 1936,\n",
       "  'end': 1938},\n",
       " {'entity_group': 'treatment',\n",
       "  'score': np.float32(0.5176959),\n",
       "  'word': 'pro',\n",
       "  'start': 2045,\n",
       "  'end': 2048}]"
      ]
     },
     "execution_count": 61,
     "metadata": {},
     "output_type": "execute_result"
    }
   ],
   "source": [
    "expected"
   ]
  },
  {
   "cell_type": "code",
   "execution_count": null,
   "id": "cefc9256",
   "metadata": {},
   "outputs": [],
   "source": []
  }
 ],
 "metadata": {
  "kernelspec": {
   "display_name": "myenv",
   "language": "python",
   "name": "python3"
  },
  "language_info": {
   "codemirror_mode": {
    "name": "ipython",
    "version": 3
   },
   "file_extension": ".py",
   "mimetype": "text/x-python",
   "name": "python",
   "nbconvert_exporter": "python",
   "pygments_lexer": "ipython3",
   "version": "3.10.11"
  }
 },
 "nbformat": 4,
 "nbformat_minor": 5
}
