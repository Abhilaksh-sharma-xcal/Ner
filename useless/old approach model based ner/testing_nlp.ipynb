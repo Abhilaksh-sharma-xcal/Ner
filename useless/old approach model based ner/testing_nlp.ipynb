{
 "cells": [
  {
   "cell_type": "code",
   "execution_count": 24,
   "id": "8c66c702",
   "metadata": {},
   "outputs": [],
   "source": [
    "import re\n",
    "\n",
    "from nltk.tokenize.api import TokenizerI\n",
    "from nltk.tokenize.util import regexp_span_tokenize\n",
    "import nltk"
   ]
  },
  {
   "cell_type": "code",
   "execution_count": 30,
   "id": "bf6d7fa8",
   "metadata": {},
   "outputs": [],
   "source": [
    "text = \"That U.S.A. poster-print costs $12.40[per day]...\"\n"
   ]
  },
  {
   "cell_type": "code",
   "execution_count": 34,
   "id": "6092f50a",
   "metadata": {},
   "outputs": [],
   "source": [
    "\n",
    "class MyTokenizer(TokenizerI):\n",
    "    def tokenize(self, text):\n",
    "        return text.split() \n",
    "\n",
    "tok = MyTokenizer().tokenize(text)"
   ]
  },
  {
   "cell_type": "code",
   "execution_count": 35,
   "id": "c158d9bb",
   "metadata": {},
   "outputs": [
    {
     "data": {
      "text/plain": [
       "['That', 'U.S.A.', 'poster-print', 'costs', '$12.40[per', 'day]...']"
      ]
     },
     "execution_count": 35,
     "metadata": {},
     "output_type": "execute_result"
    }
   ],
   "source": [
    "tok"
   ]
  },
  {
   "cell_type": "code",
   "execution_count": null,
   "id": "d746ece2",
   "metadata": {},
   "outputs": [
    {
     "name": "stdout",
     "output_type": "stream",
     "text": [
      "['That', 'U.S.A.', 'poster-print', 'costs', '$12.40', '[', 'per', 'day', ']', '...']\n"
     ]
    }
   ],
   "source": [
    "\n",
    "pattern = r'''(?x) # set flag to allow verbose regexps\n",
    "(?:[A-Z]\\.)+ # abbreviations, e.g. U.S.A.\n",
    "| \\w+(?:-\\w+)* # words with optional internal hyphens\n",
    "| \\$?\\d+(?:\\.\\d+)?%? # currency, percentages, e.g. $12.40, 82%\n",
    "| \\.\\.\\. # ellipsis\n",
    "| [][.,;\"'?():_`-] # these are separate tokens; includes ], [\n",
    "'''\n",
    "\n",
    "tokens = nltk.regexp_tokenize(text, pattern)\n",
    "print(tokens)\n"
   ]
  },
  {
   "cell_type": "code",
   "execution_count": null,
   "id": "9e6defcf",
   "metadata": {},
   "outputs": [],
   "source": [
    "remover_regex = r'''(?x)\n",
    "\n",
    "'''"
   ]
  }
 ],
 "metadata": {
  "kernelspec": {
   "display_name": "myenv",
   "language": "python",
   "name": "python3"
  },
  "language_info": {
   "codemirror_mode": {
    "name": "ipython",
    "version": 3
   },
   "file_extension": ".py",
   "mimetype": "text/x-python",
   "name": "python",
   "nbconvert_exporter": "python",
   "pygments_lexer": "ipython3",
   "version": "3.10.11"
  }
 },
 "nbformat": 4,
 "nbformat_minor": 5
}
